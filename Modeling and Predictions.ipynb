{
 "cells": [
  {
   "cell_type": "markdown",
   "metadata": {},
   "source": [
    "#### Import Modules"
   ]
  },
  {
   "cell_type": "code",
   "execution_count": 29,
   "metadata": {},
   "outputs": [],
   "source": [
    "import pandas as pd\n",
    "import numpy as np\n",
    "import time\n",
    "import gc\n",
    "import matplotlib.pyplot as plt\n",
    "import seaborn as sns\n",
    "import statsmodels.api as sm\n",
    "\n",
    "from sklearn.model_selection import cross_val_score, GridSearchCV, cross_validate, train_test_split\n",
    "from sklearn.svm import SVC\n",
    "from sklearn.linear_model import LinearRegression\n",
    "from sklearn.neural_network import MLPClassifier\n",
    "from sklearn.ensemble import RandomForestClassifier\n",
    "from sklearn.preprocessing import StandardScaler, normalize\n",
    "from statsmodels.sandbox.regression.predstd import wls_prediction_std\n",
    "\n",
    "\n",
    "data = pd.read_csv(\"training_data.csv\")"
   ]
  },
  {
   "cell_type": "markdown",
   "metadata": {},
   "source": [
    "#### What are the unique conditions?"
   ]
  },
  {
   "cell_type": "code",
   "execution_count": 30,
   "metadata": {},
   "outputs": [
    {
     "data": {
      "text/plain": [
       "array(['atrial_fib', 'chronic_kidney', 'pulmonary', 'depression',\n",
       "       'diabetes', 'ischemia', 'asthma', 'hyperlip', 'hypertension',\n",
       "       'arthritis', 'psychotic', 'stroke'], dtype=object)"
      ]
     },
     "execution_count": 30,
     "metadata": {},
     "output_type": "execute_result"
    }
   ],
   "source": [
    "data['condition'].unique()"
   ]
  },
  {
   "cell_type": "markdown",
   "metadata": {},
   "source": [
    "#### How many conditions are there?"
   ]
  },
  {
   "cell_type": "code",
   "execution_count": 31,
   "metadata": {},
   "outputs": [
    {
     "data": {
      "text/plain": [
       "12"
      ]
     },
     "execution_count": 31,
     "metadata": {},
     "output_type": "execute_result"
    }
   ],
   "source": [
    "len(data['condition'].unique())"
   ]
  },
  {
   "cell_type": "markdown",
   "metadata": {},
   "source": [
    "#### How many years of data do we have?"
   ]
  },
  {
   "cell_type": "code",
   "execution_count": 32,
   "metadata": {},
   "outputs": [
    {
     "data": {
      "text/plain": [
       "array([2017, 2016, 2015], dtype=int64)"
      ]
     },
     "execution_count": 32,
     "metadata": {},
     "output_type": "execute_result"
    }
   ],
   "source": [
    "data['year'].unique()"
   ]
  },
  {
   "cell_type": "markdown",
   "metadata": {},
   "source": [
    "#### Create dataset"
   ]
  },
  {
   "cell_type": "code",
   "execution_count": 33,
   "metadata": {},
   "outputs": [],
   "source": [
    "#potentially create region?\n",
    "#create 12 variables for type of condition\n",
    "binaries = pd.get_dummies(data['condition'])\n",
    "newdata = pd.merge(data, binaries, left_index=True, right_index=True)"
   ]
  },
  {
   "cell_type": "code",
   "execution_count": 34,
   "metadata": {},
   "outputs": [
    {
     "data": {
      "text/plain": [
       "Index(['state', 'condition', 'year', 'prev_less_65', 'prev_age_65_74',\n",
       "       'prev_age_75_84', 'prev_above_84', 'prev_male', 'prev_female',\n",
       "       'prev_white', 'prev_black', 'prev_hispanic', 'prev_other',\n",
       "       'current_cost', 'last_year_cost', 'arthritis', 'asthma', 'atrial_fib',\n",
       "       'chronic_kidney', 'depression', 'diabetes', 'hyperlip', 'hypertension',\n",
       "       'ischemia', 'psychotic', 'pulmonary', 'stroke'],\n",
       "      dtype='object')"
      ]
     },
     "execution_count": 34,
     "metadata": {},
     "output_type": "execute_result"
    }
   ],
   "source": [
    "newdata.columns"
   ]
  },
  {
   "cell_type": "code",
   "execution_count": 35,
   "metadata": {},
   "outputs": [],
   "source": [
    "finaldata = newdata[['prev_less_65', 'prev_age_65_74',\n",
    "       'prev_age_75_84', 'prev_above_84', 'prev_male', 'prev_female',\n",
    "       'prev_white', 'prev_black', 'prev_hispanic', 'prev_other',\n",
    "       'current_cost', 'last_year_cost', 'arthritis', 'asthma', 'atrial_fib',\n",
    "       'chronic_kidney', 'depression', 'diabetes', 'hyperlip', 'hypertension',\n",
    "       'ischemia', 'psychotic', 'pulmonary', 'stroke']]"
   ]
  },
  {
   "cell_type": "code",
   "execution_count": 36,
   "metadata": {},
   "outputs": [],
   "source": [
    "x_data = finaldata[['prev_less_65', 'prev_age_65_74',\n",
    "       'prev_age_75_84', 'prev_above_84', 'prev_male', 'prev_female',\n",
    "       'prev_white', 'prev_black', 'prev_hispanic', 'prev_other', 'last_year_cost',\n",
    "       'arthritis', 'asthma', 'atrial_fib','chronic_kidney', 'depression',\n",
    "        'diabetes', 'hyperlip', 'hypertension',\n",
    "       'ischemia', 'psychotic', 'pulmonary', 'stroke']]\n",
    "y_data = data.loc[:,\"current_cost\"]"
   ]
  },
  {
   "cell_type": "markdown",
   "metadata": {},
   "source": [
    "#### Create test and training datasets"
   ]
  },
  {
   "cell_type": "code",
   "execution_count": 37,
   "metadata": {},
   "outputs": [],
   "source": [
    "x_train, x_test, y_train, y_test = train_test_split(x_data,y_data,test_size = .3, random_state = 100)"
   ]
  },
  {
   "cell_type": "markdown",
   "metadata": {},
   "source": [
    "# Linear Regression"
   ]
  },
  {
   "cell_type": "code",
   "execution_count": 38,
   "metadata": {},
   "outputs": [],
   "source": [
    "Xtrain = sm.add_constant(x_train)\n",
    "Xtest = sm.add_constant(x_test)\n",
    "olstrainmodel = sm.OLS(y_train,Xtrain)"
   ]
  },
  {
   "cell_type": "code",
   "execution_count": 39,
   "metadata": {},
   "outputs": [],
   "source": [
    "olstrainresult = olstrainmodel.fit()"
   ]
  },
  {
   "cell_type": "code",
   "execution_count": 40,
   "metadata": {},
   "outputs": [
    {
     "name": "stdout",
     "output_type": "stream",
     "text": [
      "                            OLS Regression Results                            \n",
      "==============================================================================\n",
      "Dep. Variable:           current_cost   R-squared:                       0.941\n",
      "Model:                            OLS   Adj. R-squared:                  0.940\n",
      "Method:                 Least Squares   F-statistic:                     822.5\n",
      "Date:                Sun, 24 Nov 2019   Prob (F-statistic):               0.00\n",
      "Time:                        14:46:24   Log-Likelihood:                -11616.\n",
      "No. Observations:                1150   AIC:                         2.328e+04\n",
      "Df Residuals:                    1127   BIC:                         2.339e+04\n",
      "Df Model:                          22                                         \n",
      "Covariance Type:            nonrobust                                         \n",
      "==================================================================================\n",
      "                     coef    std err          t      P>|t|      [0.025      0.975]\n",
      "----------------------------------------------------------------------------------\n",
      "const           4285.2293    591.180      7.249      0.000    3125.292    5445.166\n",
      "prev_less_65      -0.0010      0.010     -0.102      0.919      -0.020       0.018\n",
      "prev_age_65_74     0.0038      0.010      0.379      0.705      -0.016       0.024\n",
      "prev_age_75_84    -0.0036      0.009     -0.398      0.691      -0.022       0.014\n",
      "prev_above_84      0.0014      0.010      0.133      0.894      -0.019       0.021\n",
      "prev_male         -0.0019      0.008     -0.244      0.807      -0.017       0.013\n",
      "prev_female       -0.0008      0.010     -0.082      0.935      -0.021       0.019\n",
      "prev_white         0.0012      0.001      1.203      0.229      -0.001       0.003\n",
      "prev_black        -0.0014      0.001     -1.548      0.122      -0.003       0.000\n",
      "prev_hispanic      0.0009      0.001      0.905      0.366      -0.001       0.003\n",
      "prev_other         0.0081      0.007      1.174      0.241      -0.005       0.022\n",
      "last_year_cost     0.9013      0.015     58.247      0.000       0.871       0.932\n",
      "arthritis      -1836.2853    695.986     -2.638      0.008   -3201.859    -470.712\n",
      "asthma         -1379.7160    604.851     -2.281      0.023   -2566.477    -192.955\n",
      "atrial_fib      -272.0517    561.914     -0.484      0.628   -1374.567     830.464\n",
      "chronic_kidney  -826.4692    572.006     -1.445      0.149   -1948.786     295.848\n",
      "depression     -1192.6809    585.412     -2.037      0.042   -2341.301     -44.061\n",
      "diabetes       -1229.7230    549.751     -2.237      0.025   -2308.374    -151.072\n",
      "hyperlip         546.9002    613.351      0.892      0.373    -656.538    1750.339\n",
      "hypertension    -988.3946    619.167     -1.596      0.111   -2203.244     226.455\n",
      "ischemia        9439.4991    939.210     10.050      0.000    7596.701    1.13e+04\n",
      "psychotic       -304.7098    595.751     -0.511      0.609   -1473.615     864.195\n",
      "pulmonary      -1255.3198    579.178     -2.167      0.030   -2391.708    -118.932\n",
      "stroke          3584.1802    865.425      4.142      0.000    1886.156    5282.205\n",
      "==============================================================================\n",
      "Omnibus:                      721.419   Durbin-Watson:                   1.934\n",
      "Prob(Omnibus):                  0.000   Jarque-Bera (JB):           128062.028\n",
      "Skew:                          -1.834   Prob(JB):                         0.00\n",
      "Kurtosis:                      54.567   Cond. No.                     3.07e+22\n",
      "==============================================================================\n",
      "\n",
      "Warnings:\n",
      "[1] Standard Errors assume that the covariance matrix of the errors is correctly specified.\n",
      "[2] The smallest eigenvalue is 1.84e-28. This might indicate that there are\n",
      "strong multicollinearity problems or that the design matrix is singular.\n"
     ]
    }
   ],
   "source": [
    "print(olstrainresult.summary())"
   ]
  },
  {
   "cell_type": "code",
   "execution_count": 41,
   "metadata": {},
   "outputs": [],
   "source": [
    "testpred = olstrainresult.predict(Xtest)"
   ]
  },
  {
   "cell_type": "markdown",
   "metadata": {},
   "source": [
    "#### MAE on Test Set"
   ]
  },
  {
   "cell_type": "code",
   "execution_count": 42,
   "metadata": {},
   "outputs": [
    {
     "data": {
      "text/plain": [
       "3554.2014831916686"
      ]
     },
     "execution_count": 42,
     "metadata": {},
     "output_type": "execute_result"
    }
   ],
   "source": [
    "np.abs(testpred - y_test).mean()"
   ]
  },
  {
   "cell_type": "markdown",
   "metadata": {},
   "source": [
    "#### RMSE on Test Set"
   ]
  },
  {
   "cell_type": "code",
   "execution_count": 43,
   "metadata": {},
   "outputs": [
    {
     "data": {
      "text/plain": [
       "6222.150810763095"
      ]
     },
     "execution_count": 43,
     "metadata": {},
     "output_type": "execute_result"
    }
   ],
   "source": [
    "np.sqrt(np.mean((testpred - y_test)**2))"
   ]
  },
  {
   "cell_type": "markdown",
   "metadata": {},
   "source": [
    "#### Create Prediction Dataset for 2018"
   ]
  },
  {
   "cell_type": "code",
   "execution_count": 52,
   "metadata": {},
   "outputs": [],
   "source": [
    "newdata2 = pd.read_csv(\"aggregations/aggregations/df_state_2017.csv\")"
   ]
  },
  {
   "cell_type": "code",
   "execution_count": 53,
   "metadata": {},
   "outputs": [],
   "source": [
    "dataofinterest = newdata2[['nppes_provider_state', 'beneficiary_age_less_65_total',\n",
    "       'beneficiary_age_65_74_total', 'beneficiary_age_75_84_total',\n",
    "       'beneficiary_age_greater_84_total', 'beneficiary_male_total',\n",
    "       'beneficiary_female_total','beneficiary_race_white_total',\n",
    "       'beneficiary_race_black_total','beneficiary_race_hispanic_total',\n",
    "       'beneficiary_race_other_total']]"
   ]
  },
  {
   "cell_type": "code",
   "execution_count": 54,
   "metadata": {},
   "outputs": [
    {
     "name": "stderr",
     "output_type": "stream",
     "text": [
      "c:\\users\\camer\\appdata\\local\\programs\\python\\python36-32\\lib\\site-packages\\pandas\\core\\frame.py:3027: SettingWithCopyWarning: \n",
      "A value is trying to be set on a copy of a slice from a DataFrame\n",
      "\n",
      "See the caveats in the documentation: http://pandas.pydata.org/pandas-docs/stable/indexing.html#indexing-view-versus-copy\n",
      "  return super(DataFrame, self).rename(**kwargs)\n"
     ]
    }
   ],
   "source": [
    "dataofinterest.rename(columns={'nppes_provider_state':'state', 'beneficiary_age_less_65_total':'prev_less_65',\n",
    "       'beneficiary_age_65_74_total':'prev_age_65_74', 'beneficiary_age_75_84_total':'prev_age_75_84',\n",
    "       'beneficiary_age_greater_84_total':'prev_above_84', 'beneficiary_male_total':'prev_male',\n",
    "       'beneficiary_female_total':'prev_female','beneficiary_race_white_total':'prev_white',\n",
    "       'beneficiary_race_black_total':'prev_black','beneficiary_race_hispanic_total':'prev_hispanic',\n",
    "       'beneficiary_race_other_total':'prev_other'},inplace = True)"
   ]
  },
  {
   "cell_type": "code",
   "execution_count": 55,
   "metadata": {},
   "outputs": [],
   "source": [
    "twosev_data = newdata[newdata['year']==2017]"
   ]
  },
  {
   "cell_type": "code",
   "execution_count": 56,
   "metadata": {},
   "outputs": [
    {
     "name": "stderr",
     "output_type": "stream",
     "text": [
      "c:\\users\\camer\\appdata\\local\\programs\\python\\python36-32\\lib\\site-packages\\ipykernel_launcher.py:3: SettingWithCopyWarning: \n",
      "A value is trying to be set on a copy of a slice from a DataFrame\n",
      "\n",
      "See the caveats in the documentation: http://pandas.pydata.org/pandas-docs/stable/indexing.html#indexing-view-versus-copy\n",
      "  This is separate from the ipykernel package so we can avoid doing imports until\n"
     ]
    }
   ],
   "source": [
    "twosev_data.drop(columns=['condition', 'year', 'prev_less_65', 'prev_age_65_74',\n",
    "       'prev_age_75_84', 'prev_above_84', 'prev_male', 'prev_female',\n",
    "       'prev_white', 'prev_black', 'prev_hispanic', 'prev_other','last_year_cost'],inplace = True)"
   ]
  },
  {
   "cell_type": "code",
   "execution_count": 57,
   "metadata": {},
   "outputs": [
    {
     "name": "stderr",
     "output_type": "stream",
     "text": [
      "c:\\users\\camer\\appdata\\local\\programs\\python\\python36-32\\lib\\site-packages\\pandas\\core\\frame.py:3027: SettingWithCopyWarning: \n",
      "A value is trying to be set on a copy of a slice from a DataFrame\n",
      "\n",
      "See the caveats in the documentation: http://pandas.pydata.org/pandas-docs/stable/indexing.html#indexing-view-versus-copy\n",
      "  return super(DataFrame, self).rename(**kwargs)\n"
     ]
    }
   ],
   "source": [
    "twosev_data.rename(columns={\"current_cost\": \"last_year_cost\"},inplace = True)\n"
   ]
  },
  {
   "cell_type": "code",
   "execution_count": 58,
   "metadata": {},
   "outputs": [],
   "source": [
    "predtwoeightdataprep = pd.merge(dataofinterest, twosev_data, how='inner', left_on='state', right_on='state')"
   ]
  },
  {
   "cell_type": "code",
   "execution_count": 59,
   "metadata": {},
   "outputs": [],
   "source": [
    "predtwoeightdata = predtwoeightdataprep[['prev_less_65', 'prev_age_65_74', 'prev_age_75_84',\n",
    "       'prev_above_84', 'prev_male', 'prev_female', 'prev_white', 'prev_black',\n",
    "       'prev_hispanic', 'prev_other', 'last_year_cost', 'arthritis', 'asthma',\n",
    "       'atrial_fib', 'chronic_kidney', 'depression', 'diabetes', 'hyperlip',\n",
    "       'hypertension', 'ischemia', 'psychotic', 'pulmonary', 'stroke']]"
   ]
  },
  {
   "cell_type": "markdown",
   "metadata": {},
   "source": [
    "# Predictions"
   ]
  },
  {
   "cell_type": "code",
   "execution_count": 60,
   "metadata": {},
   "outputs": [],
   "source": [
    "newX = sm.add_constant(predtwoeightdata)"
   ]
  },
  {
   "cell_type": "code",
   "execution_count": 61,
   "metadata": {},
   "outputs": [],
   "source": [
    "twoeightpred = olstrainresult.predict(newX)"
   ]
  },
  {
   "cell_type": "code",
   "execution_count": 70,
   "metadata": {},
   "outputs": [],
   "source": [
    "def transform_exog_to_model(fit, exog):\n",
    "    transform=True\n",
    "    self=fit\n",
    "\n",
    "    # The following is lifted straight from statsmodels.base.model.Results.predict()\n",
    "    if transform and hasattr(self.model, 'formula') and exog is not None:\n",
    "        from patsy import dmatrix\n",
    "        exog = dmatrix(self.model.data.orig_exog.design_info.builder,\n",
    "                       exog)\n",
    "\n",
    "    if exog is not None:\n",
    "        exog = np.asarray(exog)\n",
    "        if exog.ndim == 1 and (self.model.exog.ndim == 1 or\n",
    "                               self.model.exog.shape[1] == 1):\n",
    "            exog = exog[:, None]\n",
    "        exog = np.atleast_2d(exog)  # needed in count model shape[1]\n",
    "\n",
    "    # end lifted code\n",
    "    return exog\n",
    "\n",
    "transformed_exog = transform_exog_to_model(olstrainresult, newX)\n",
    "prstd2, iv_l2, iv_u2 = wls_prediction_std(olstrainresult, newX, weights=[1])"
   ]
  },
  {
   "cell_type": "code",
   "execution_count": 92,
   "metadata": {},
   "outputs": [],
   "source": [
    "newvalues = np.concatenate((np.array(iv_l2).reshape((len(iv_l2),1)),np.array(twoeightpred).reshape((len(twoeightpred),1)),np.array(iv_u2).reshape((len(iv_u2),1))),axis=1)"
   ]
  },
  {
   "cell_type": "markdown",
   "metadata": {},
   "source": [
    "# Rebuild Dataset"
   ]
  },
  {
   "cell_type": "code",
   "execution_count": 94,
   "metadata": {},
   "outputs": [
    {
     "data": {
      "text/plain": [
       "Index(['state', 'prev_less_65', 'prev_age_65_74', 'prev_age_75_84',\n",
       "       'prev_above_84', 'prev_male', 'prev_female', 'prev_white', 'prev_black',\n",
       "       'prev_hispanic', 'prev_other', 'last_year_cost', 'arthritis', 'asthma',\n",
       "       'atrial_fib', 'chronic_kidney', 'depression', 'diabetes', 'hyperlip',\n",
       "       'hypertension', 'ischemia', 'psychotic', 'pulmonary', 'stroke'],\n",
       "      dtype='object')"
      ]
     },
     "execution_count": 94,
     "metadata": {},
     "output_type": "execute_result"
    }
   ],
   "source": [
    "predtwoeightdataprep.columns"
   ]
  },
  {
   "cell_type": "code",
   "execution_count": 95,
   "metadata": {},
   "outputs": [],
   "source": [
    "twoeightdata = predtwoeightdataprep[['state','arthritis', 'asthma',\n",
    "       'atrial_fib', 'chronic_kidney', 'depression', 'diabetes', 'hyperlip',\n",
    "       'hypertension', 'ischemia', 'psychotic', 'pulmonary', 'stroke']]"
   ]
  },
  {
   "cell_type": "code",
   "execution_count": 100,
   "metadata": {},
   "outputs": [
    {
     "name": "stderr",
     "output_type": "stream",
     "text": [
      "c:\\users\\camer\\appdata\\local\\programs\\python\\python36-32\\lib\\site-packages\\pandas\\core\\indexing.py:537: SettingWithCopyWarning: \n",
      "A value is trying to be set on a copy of a slice from a DataFrame.\n",
      "Try using .loc[row_indexer,col_indexer] = value instead\n",
      "\n",
      "See the caveats in the documentation: http://pandas.pydata.org/pandas-docs/stable/indexing.html#indexing-view-versus-copy\n",
      "  self.obj[item] = s\n"
     ]
    }
   ],
   "source": [
    "twoeightdata.loc[twoeightdata.arthritis==1,'condition'] = 'arthritis'\n",
    "twoeightdata.loc[twoeightdata.asthma==1,'condition'] = 'asthma'\n",
    "twoeightdata.loc[twoeightdata.atrial_fib==1,'condition'] = 'atrial_fib'\n",
    "twoeightdata.loc[twoeightdata.chronic_kidney==1,'condition'] = 'chronic_kidney'\n",
    "twoeightdata.loc[twoeightdata.depression==1,'condition'] = 'depression'\n",
    "twoeightdata.loc[twoeightdata.diabetes==1,'condition'] = 'diabetes'\n",
    "twoeightdata.loc[twoeightdata.hyperlip==1,'condition'] = 'hyperlip'\n",
    "twoeightdata.loc[twoeightdata.hypertension==1,'condition'] = 'hypertension'\n",
    "twoeightdata.loc[twoeightdata.ischemia==1,'condition'] = 'ischemia'\n",
    "twoeightdata.loc[twoeightdata.psychotic==1,'condition'] = 'psychotic'\n",
    "twoeightdata.loc[twoeightdata.pulmonary==1,'condition'] = 'pulmonary'\n",
    "twoeightdata.loc[twoeightdata.stroke==1,'condition'] = 'stroke'"
   ]
  },
  {
   "cell_type": "code",
   "execution_count": 104,
   "metadata": {},
   "outputs": [
    {
     "name": "stderr",
     "output_type": "stream",
     "text": [
      "c:\\users\\camer\\appdata\\local\\programs\\python\\python36-32\\lib\\site-packages\\ipykernel_launcher.py:3: SettingWithCopyWarning: \n",
      "A value is trying to be set on a copy of a slice from a DataFrame\n",
      "\n",
      "See the caveats in the documentation: http://pandas.pydata.org/pandas-docs/stable/indexing.html#indexing-view-versus-copy\n",
      "  This is separate from the ipykernel package so we can avoid doing imports until\n"
     ]
    }
   ],
   "source": [
    "twoeightdata.drop(columns=['atrial_fib', 'chronic_kidney', 'pulmonary', 'depression',\n",
    "       'diabetes', 'ischemia', 'asthma', 'hyperlip', 'hypertension',\n",
    "       'arthritis', 'psychotic', 'stroke'],inplace = True)"
   ]
  },
  {
   "cell_type": "code",
   "execution_count": 107,
   "metadata": {},
   "outputs": [
    {
     "name": "stderr",
     "output_type": "stream",
     "text": [
      "c:\\users\\camer\\appdata\\local\\programs\\python\\python36-32\\lib\\site-packages\\ipykernel_launcher.py:1: SettingWithCopyWarning: \n",
      "A value is trying to be set on a copy of a slice from a DataFrame.\n",
      "Try using .loc[row_indexer,col_indexer] = value instead\n",
      "\n",
      "See the caveats in the documentation: http://pandas.pydata.org/pandas-docs/stable/indexing.html#indexing-view-versus-copy\n",
      "  \"\"\"Entry point for launching an IPython kernel.\n"
     ]
    }
   ],
   "source": [
    "twoeightdata['year']=[2018]*len(twoeightdata)"
   ]
  },
  {
   "cell_type": "code",
   "execution_count": 113,
   "metadata": {},
   "outputs": [
    {
     "name": "stderr",
     "output_type": "stream",
     "text": [
      "c:\\users\\camer\\appdata\\local\\programs\\python\\python36-32\\lib\\site-packages\\ipykernel_launcher.py:1: SettingWithCopyWarning: \n",
      "A value is trying to be set on a copy of a slice from a DataFrame.\n",
      "Try using .loc[row_indexer,col_indexer] = value instead\n",
      "\n",
      "See the caveats in the documentation: http://pandas.pydata.org/pandas-docs/stable/indexing.html#indexing-view-versus-copy\n",
      "  \"\"\"Entry point for launching an IPython kernel.\n"
     ]
    }
   ],
   "source": [
    "twoeightdata['current_cost']=newvalues[:,1]"
   ]
  },
  {
   "cell_type": "code",
   "execution_count": 117,
   "metadata": {},
   "outputs": [
    {
     "name": "stderr",
     "output_type": "stream",
     "text": [
      "c:\\users\\camer\\appdata\\local\\programs\\python\\python36-32\\lib\\site-packages\\ipykernel_launcher.py:1: SettingWithCopyWarning: \n",
      "A value is trying to be set on a copy of a slice from a DataFrame.\n",
      "Try using .loc[row_indexer,col_indexer] = value instead\n",
      "\n",
      "See the caveats in the documentation: http://pandas.pydata.org/pandas-docs/stable/indexing.html#indexing-view-versus-copy\n",
      "  \"\"\"Entry point for launching an IPython kernel.\n",
      "c:\\users\\camer\\appdata\\local\\programs\\python\\python36-32\\lib\\site-packages\\ipykernel_launcher.py:2: SettingWithCopyWarning: \n",
      "A value is trying to be set on a copy of a slice from a DataFrame.\n",
      "Try using .loc[row_indexer,col_indexer] = value instead\n",
      "\n",
      "See the caveats in the documentation: http://pandas.pydata.org/pandas-docs/stable/indexing.html#indexing-view-versus-copy\n",
      "  \n"
     ]
    }
   ],
   "source": [
    "twoeightdata['lower_bound']=newvalues[:,0]\n",
    "twoeightdata['upper_bound']=newvalues[:,2]"
   ]
  },
  {
   "cell_type": "code",
   "execution_count": 119,
   "metadata": {},
   "outputs": [],
   "source": [
    "otherdata = data[['state','condition','year','current_cost']]"
   ]
  },
  {
   "cell_type": "code",
   "execution_count": 122,
   "metadata": {},
   "outputs": [
    {
     "name": "stderr",
     "output_type": "stream",
     "text": [
      "c:\\users\\camer\\appdata\\local\\programs\\python\\python36-32\\lib\\site-packages\\ipykernel_launcher.py:1: SettingWithCopyWarning: \n",
      "A value is trying to be set on a copy of a slice from a DataFrame.\n",
      "Try using .loc[row_indexer,col_indexer] = value instead\n",
      "\n",
      "See the caveats in the documentation: http://pandas.pydata.org/pandas-docs/stable/indexing.html#indexing-view-versus-copy\n",
      "  \"\"\"Entry point for launching an IPython kernel.\n",
      "c:\\users\\camer\\appdata\\local\\programs\\python\\python36-32\\lib\\site-packages\\ipykernel_launcher.py:2: SettingWithCopyWarning: \n",
      "A value is trying to be set on a copy of a slice from a DataFrame.\n",
      "Try using .loc[row_indexer,col_indexer] = value instead\n",
      "\n",
      "See the caveats in the documentation: http://pandas.pydata.org/pandas-docs/stable/indexing.html#indexing-view-versus-copy\n",
      "  \n"
     ]
    }
   ],
   "source": [
    "otherdata[\"lower_bound\"] = np.nan\n",
    "otherdata[\"upper_bound\"] = np.nan"
   ]
  },
  {
   "cell_type": "code",
   "execution_count": 124,
   "metadata": {},
   "outputs": [],
   "source": [
    "finaldataset = pd.concat([twoeightdata, otherdata], axis=0)"
   ]
  },
  {
   "cell_type": "code",
   "execution_count": 130,
   "metadata": {},
   "outputs": [],
   "source": [
    "finaldataset.to_csv(\"finaldataset.csv\",index=False)"
   ]
  }
 ],
 "metadata": {
  "kernelspec": {
   "display_name": "Python 3",
   "language": "python",
   "name": "python3"
  },
  "language_info": {
   "codemirror_mode": {
    "name": "ipython",
    "version": 3
   },
   "file_extension": ".py",
   "mimetype": "text/x-python",
   "name": "python",
   "nbconvert_exporter": "python",
   "pygments_lexer": "ipython3",
   "version": "3.6.4"
  }
 },
 "nbformat": 4,
 "nbformat_minor": 2
}
