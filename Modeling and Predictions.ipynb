{
 "cells": [
  {
   "cell_type": "markdown",
   "metadata": {},
   "source": [
    "#### Import Modules"
   ]
  },
  {
   "cell_type": "code",
   "execution_count": 22,
   "metadata": {},
   "outputs": [],
   "source": [
    "import pandas as pd\n",
    "import numpy as np\n",
    "import time\n",
    "import gc\n",
    "import matplotlib.pyplot as plt\n",
    "import seaborn as sns\n",
    "\n",
    "from sklearn.model_selection import cross_val_score, GridSearchCV, cross_validate, train_test_split\n",
    "from sklearn.svm import SVC\n",
    "from sklearn.linear_model import LinearRegression\n",
    "from sklearn.neural_network import MLPClassifier\n",
    "from sklearn.ensemble import RandomForestClassifier\n",
    "from sklearn.preprocessing import StandardScaler, normalize\n",
    "\n",
    "data = pd.read_csv(\"training_data.csv\")"
   ]
  },
  {
   "cell_type": "markdown",
   "metadata": {},
   "source": [
    "#### What are the unique conditions?"
   ]
  },
  {
   "cell_type": "code",
   "execution_count": 2,
   "metadata": {},
   "outputs": [
    {
     "data": {
      "text/plain": [
       "array(['atrial_fib', 'chronic_kidney', 'pulmonary', 'depression',\n",
       "       'diabetes', 'ischemia', 'asthma', 'hyperlip', 'hypertension',\n",
       "       'arthritis', 'psychotic', 'stroke'], dtype=object)"
      ]
     },
     "execution_count": 2,
     "metadata": {},
     "output_type": "execute_result"
    }
   ],
   "source": [
    "data['condition'].unique()"
   ]
  },
  {
   "cell_type": "markdown",
   "metadata": {},
   "source": [
    "#### How many conditions are there?"
   ]
  },
  {
   "cell_type": "code",
   "execution_count": 3,
   "metadata": {},
   "outputs": [
    {
     "data": {
      "text/plain": [
       "12"
      ]
     },
     "execution_count": 3,
     "metadata": {},
     "output_type": "execute_result"
    }
   ],
   "source": [
    "len(data['condition'].unique())"
   ]
  },
  {
   "cell_type": "markdown",
   "metadata": {},
   "source": [
    "#### How many years of data do we have?"
   ]
  },
  {
   "cell_type": "code",
   "execution_count": 4,
   "metadata": {},
   "outputs": [
    {
     "data": {
      "text/plain": [
       "array([2017, 2016, 2015], dtype=int64)"
      ]
     },
     "execution_count": 4,
     "metadata": {},
     "output_type": "execute_result"
    }
   ],
   "source": [
    "data['year'].unique()"
   ]
  },
  {
   "cell_type": "markdown",
   "metadata": {},
   "source": [
    "#### Create dataset"
   ]
  },
  {
   "cell_type": "code",
   "execution_count": 5,
   "metadata": {},
   "outputs": [],
   "source": [
    "#potentially create region?\n",
    "#create 12 variables for type of condition\n",
    "binaries = pd.get_dummies(data['condition'])\n",
    "newdata = pd.merge(data, binaries, left_index=True, right_index=True)"
   ]
  },
  {
   "cell_type": "code",
   "execution_count": 6,
   "metadata": {},
   "outputs": [
    {
     "data": {
      "text/plain": [
       "Index(['state', 'condition', 'year', 'prev_less_65', 'prev_age_65_74',\n",
       "       'prev_age_75_84', 'prev_above_84', 'prev_male', 'prev_female',\n",
       "       'prev_white', 'prev_black', 'prev_hispanic', 'prev_other',\n",
       "       'current_cost', 'last_year_cost', 'arthritis', 'asthma', 'atrial_fib',\n",
       "       'chronic_kidney', 'depression', 'diabetes', 'hyperlip', 'hypertension',\n",
       "       'ischemia', 'psychotic', 'pulmonary', 'stroke'],\n",
       "      dtype='object')"
      ]
     },
     "execution_count": 6,
     "metadata": {},
     "output_type": "execute_result"
    }
   ],
   "source": [
    "newdata.columns"
   ]
  },
  {
   "cell_type": "code",
   "execution_count": 7,
   "metadata": {},
   "outputs": [],
   "source": [
    "finaldata = newdata[['prev_less_65', 'prev_age_65_74',\n",
    "       'prev_age_75_84', 'prev_above_84', 'prev_male', 'prev_female',\n",
    "       'prev_white', 'prev_black', 'prev_hispanic', 'prev_other',\n",
    "       'current_cost', 'last_year_cost', 'arthritis', 'asthma', 'atrial_fib',\n",
    "       'chronic_kidney', 'depression', 'diabetes', 'hyperlip', 'hypertension',\n",
    "       'ischemia', 'psychotic', 'pulmonary', 'stroke']]"
   ]
  },
  {
   "cell_type": "code",
   "execution_count": 8,
   "metadata": {},
   "outputs": [],
   "source": [
    "x_data = finaldata[['prev_less_65', 'prev_age_65_74',\n",
    "       'prev_age_75_84', 'prev_above_84', 'prev_male', 'prev_female',\n",
    "       'prev_white', 'prev_black', 'prev_hispanic', 'prev_other', 'last_year_cost',\n",
    "       'arthritis', 'asthma', 'atrial_fib','chronic_kidney', 'depression',\n",
    "        'diabetes', 'hyperlip', 'hypertension',\n",
    "       'ischemia', 'psychotic', 'pulmonary', 'stroke']]\n",
    "y_data = data.loc[:,\"current_cost\"]"
   ]
  },
  {
   "cell_type": "markdown",
   "metadata": {},
   "source": [
    "#### Create test and training datasets"
   ]
  },
  {
   "cell_type": "code",
   "execution_count": 9,
   "metadata": {},
   "outputs": [],
   "source": [
    "x_train, x_test, y_train, y_test = train_test_split(x_data,y_data,test_size = .3, random_state = 100)"
   ]
  },
  {
   "cell_type": "markdown",
   "metadata": {},
   "source": [
    "# Linear Regression"
   ]
  },
  {
   "cell_type": "code",
   "execution_count": 10,
   "metadata": {},
   "outputs": [
    {
     "data": {
      "text/plain": [
       "LinearRegression(copy_X=True, fit_intercept=True, n_jobs=None, normalize=False)"
      ]
     },
     "execution_count": 10,
     "metadata": {},
     "output_type": "execute_result"
    }
   ],
   "source": [
    "regr = LinearRegression()\n",
    "regr.fit(x_train, y_train)"
   ]
  },
  {
   "cell_type": "markdown",
   "metadata": {},
   "source": [
    "#### R-squared"
   ]
  },
  {
   "cell_type": "code",
   "execution_count": 11,
   "metadata": {},
   "outputs": [
    {
     "data": {
      "text/plain": [
       "0.9413720615939674"
      ]
     },
     "execution_count": 11,
     "metadata": {},
     "output_type": "execute_result"
    }
   ],
   "source": [
    "regr.score(x_train,y_train)"
   ]
  },
  {
   "cell_type": "code",
   "execution_count": 12,
   "metadata": {},
   "outputs": [],
   "source": [
    "regpredicttrain = regr.predict(x_train)"
   ]
  },
  {
   "cell_type": "code",
   "execution_count": 13,
   "metadata": {},
   "outputs": [
    {
     "data": {
      "text/plain": [
       "array([11616.11281858, 48538.5898686 , 38216.57795904, ...,\n",
       "       25799.19870479, 33602.8774708 , 28779.27399255])"
      ]
     },
     "execution_count": 13,
     "metadata": {},
     "output_type": "execute_result"
    }
   ],
   "source": [
    "regpredicttrain"
   ]
  },
  {
   "cell_type": "markdown",
   "metadata": {},
   "source": [
    "#### Residual Plots"
   ]
  },
  {
   "cell_type": "code",
   "execution_count": 14,
   "metadata": {},
   "outputs": [],
   "source": [
    "residuals = (y_train - regpredicttrain)"
   ]
  },
  {
   "cell_type": "code",
   "execution_count": 21,
   "metadata": {},
   "outputs": [
    {
     "data": {
      "text/plain": [
       "<matplotlib.collections.PathCollection at 0x1b42210>"
      ]
     },
     "execution_count": 21,
     "metadata": {},
     "output_type": "execute_result"
    },
    {
     "data": {
      "image/png": "[encoded data removed]",
      "text/plain": [
       "<Figure size 432x288 with 1 Axes>"
      ]
     },
     "metadata": {},
     "output_type": "display_data"
    }
   ],
   "source": [
    "plt.scatter(regpredicttrain,residuals)"
   ]
  },
  {
   "cell_type": "code",
   "execution_count": 24,
   "metadata": {},
   "outputs": [
    {
     "data": {
      "text/plain": [
       "<matplotlib.axes._subplots.AxesSubplot at 0x54949f0>"
      ]
     },
     "execution_count": 24,
     "metadata": {},
     "output_type": "execute_result"
    },
    {
     "data": {
      "image/png": "[encoded data removed]",
      "text/plain": [
       "<Figure size 432x288 with 1 Axes>"
      ]
     },
     "metadata": {},
     "output_type": "display_data"
    }
   ],
   "source": [
    "sns.distplot(residuals,hist = False,kde = True)"
   ]
  },
  {
   "cell_type": "code",
   "execution_count": 34,
   "metadata": {},
   "outputs": [
    {
     "data": {
      "text/plain": [
       "1296   -88431.770042\n",
       "Name: current_cost, dtype: float64"
      ]
     },
     "execution_count": 34,
     "metadata": {},
     "output_type": "execute_result"
    }
   ],
   "source": [
    "residuals[residuals<-80000]"
   ]
  },
  {
   "cell_type": "code",
   "execution_count": 35,
   "metadata": {},
   "outputs": [
    {
     "data": {
      "text/plain": [
       "353    49379.112407\n",
       "Name: current_cost, dtype: float64"
      ]
     },
     "execution_count": 35,
     "metadata": {},
     "output_type": "execute_result"
    }
   ],
   "source": [
    "residuals[residuals>40000]"
   ]
  },
  {
   "cell_type": "code",
   "execution_count": 36,
   "metadata": {},
   "outputs": [],
   "source": [
    "regpredicttest = regr.predict(x_test)"
   ]
  },
  {
   "cell_type": "markdown",
   "metadata": {},
   "source": [
    "#### MAE on Test Set"
   ]
  },
  {
   "cell_type": "code",
   "execution_count": 40,
   "metadata": {},
   "outputs": [
    {
     "data": {
      "text/plain": [
       "3554.201483191758"
      ]
     },
     "execution_count": 40,
     "metadata": {},
     "output_type": "execute_result"
    }
   ],
   "source": [
    "(regpredicttest-y_test).abs().mean()"
   ]
  },
  {
   "cell_type": "markdown",
   "metadata": {},
   "source": [
    "#### RMSE on Test Set"
   ]
  },
  {
   "cell_type": "code",
   "execution_count": 48,
   "metadata": {},
   "outputs": [
    {
     "data": {
      "text/plain": [
       "6222.1508107630525"
      ]
     },
     "execution_count": 48,
     "metadata": {},
     "output_type": "execute_result"
    }
   ],
   "source": [
    "np.sqrt(((regpredicttest-y_test)**2).sum()/len(regpredicttest))"
   ]
  },
  {
   "cell_type": "markdown",
   "metadata": {},
   "source": [
    "#### Create Prediction Dataset for Visualization Project"
   ]
  },
  {
   "cell_type": "code",
   "execution_count": 51,
   "metadata": {},
   "outputs": [],
   "source": [
    "newdata2 = pd.read_csv(\"aggregations/aggregations/df_state_2017.csv\")"
   ]
  },
  {
   "cell_type": "code",
   "execution_count": 74,
   "metadata": {},
   "outputs": [],
   "source": [
    "dataofinterest = newdata2[['nppes_provider_state', 'beneficiary_age_less_65_total',\n",
    "       'beneficiary_age_65_74_total', 'beneficiary_age_75_84_total',\n",
    "       'beneficiary_age_greater_84_total', 'beneficiary_male_total',\n",
    "       'beneficiary_female_total','beneficiary_race_white_total',\n",
    "       'beneficiary_race_black_total','beneficiary_race_hispanic_total',\n",
    "       'beneficiary_race_other_total']]"
   ]
  },
  {
   "cell_type": "code",
   "execution_count": 76,
   "metadata": {},
   "outputs": [
    {
     "data": {
      "text/plain": [
       "Index(['prev_less_65', 'prev_age_65_74', 'prev_age_75_84', 'prev_above_84',\n",
       "       'prev_male', 'prev_female', 'prev_white', 'prev_black', 'prev_hispanic',\n",
       "       'prev_other', 'last_year_cost', 'arthritis', 'asthma', 'atrial_fib',\n",
       "       'chronic_kidney', 'depression', 'diabetes', 'hyperlip', 'hypertension',\n",
       "       'ischemia', 'psychotic', 'pulmonary', 'stroke'],\n",
       "      dtype='object')"
      ]
     },
     "execution_count": 76,
     "metadata": {},
     "output_type": "execute_result"
    }
   ],
   "source": [
    "x_train.columns"
   ]
  },
  {
   "cell_type": "code",
   "execution_count": 78,
   "metadata": {},
   "outputs": [
    {
     "name": "stderr",
     "output_type": "stream",
     "text": [
      "c:\\users\\camer\\appdata\\local\\programs\\python\\python36-32\\lib\\site-packages\\pandas\\core\\frame.py:3027: SettingWithCopyWarning: \n",
      "A value is trying to be set on a copy of a slice from a DataFrame\n",
      "\n",
      "See the caveats in the documentation: http://pandas.pydata.org/pandas-docs/stable/indexing.html#indexing-view-versus-copy\n",
      "  return super(DataFrame, self).rename(**kwargs)\n"
     ]
    }
   ],
   "source": [
    "dataofinterest.rename(columns={'nppes_provider_state':'state', 'beneficiary_age_less_65_total':'prev_less_65',\n",
    "       'beneficiary_age_65_74_total':'prev_age_65_74', 'beneficiary_age_75_84_total':'prev_age_75_84',\n",
    "       'beneficiary_age_greater_84_total':'prev_above_84', 'beneficiary_male_total':'prev_male',\n",
    "       'beneficiary_female_total':'prev_female','beneficiary_race_white_total':'prev_white',\n",
    "       'beneficiary_race_black_total':'prev_black','beneficiary_race_hispanic_total':'prev_hispanic',\n",
    "       'beneficiary_race_other_total':'prev_other'},inplace = True)"
   ]
  },
  {
   "cell_type": "code",
   "execution_count": 80,
   "metadata": {},
   "outputs": [
    {
     "data": {
      "text/plain": [
       "Index(['state', 'prev_less_65', 'prev_age_65_74', 'prev_age_75_84',\n",
       "       'prev_above_84', 'prev_male', 'prev_female', 'prev_white', 'prev_black',\n",
       "       'prev_hispanic', 'prev_other'],\n",
       "      dtype='object')"
      ]
     },
     "execution_count": 80,
     "metadata": {},
     "output_type": "execute_result"
    }
   ],
   "source": [
    "dataofinterest.columns"
   ]
  },
  {
   "cell_type": "code",
   "execution_count": 68,
   "metadata": {},
   "outputs": [],
   "source": [
    "twosev_data = newdata[newdata['year']==2017]"
   ]
  },
  {
   "cell_type": "code",
   "execution_count": 69,
   "metadata": {},
   "outputs": [
    {
     "name": "stderr",
     "output_type": "stream",
     "text": [
      "c:\\users\\camer\\appdata\\local\\programs\\python\\python36-32\\lib\\site-packages\\ipykernel_launcher.py:3: SettingWithCopyWarning: \n",
      "A value is trying to be set on a copy of a slice from a DataFrame\n",
      "\n",
      "See the caveats in the documentation: http://pandas.pydata.org/pandas-docs/stable/indexing.html#indexing-view-versus-copy\n",
      "  This is separate from the ipykernel package so we can avoid doing imports until\n"
     ]
    }
   ],
   "source": [
    "twosev_data.drop(columns=['condition', 'year', 'prev_less_65', 'prev_age_65_74',\n",
    "       'prev_age_75_84', 'prev_above_84', 'prev_male', 'prev_female',\n",
    "       'prev_white', 'prev_black', 'prev_hispanic', 'prev_other','last_year_cost'],inplace = True)"
   ]
  },
  {
   "cell_type": "code",
   "execution_count": 70,
   "metadata": {},
   "outputs": [
    {
     "data": {
      "text/plain": [
       "Index(['state', 'current_cost', 'arthritis', 'asthma', 'atrial_fib',\n",
       "       'chronic_kidney', 'depression', 'diabetes', 'hyperlip', 'hypertension',\n",
       "       'ischemia', 'psychotic', 'pulmonary', 'stroke'],\n",
       "      dtype='object')"
      ]
     },
     "execution_count": 70,
     "metadata": {},
     "output_type": "execute_result"
    }
   ],
   "source": [
    "twosev_data.columns"
   ]
  },
  {
   "cell_type": "code",
   "execution_count": 71,
   "metadata": {},
   "outputs": [
    {
     "name": "stderr",
     "output_type": "stream",
     "text": [
      "c:\\users\\camer\\appdata\\local\\programs\\python\\python36-32\\lib\\site-packages\\pandas\\core\\frame.py:3027: SettingWithCopyWarning: \n",
      "A value is trying to be set on a copy of a slice from a DataFrame\n",
      "\n",
      "See the caveats in the documentation: http://pandas.pydata.org/pandas-docs/stable/indexing.html#indexing-view-versus-copy\n",
      "  return super(DataFrame, self).rename(**kwargs)\n"
     ]
    }
   ],
   "source": [
    "twosev_data.rename(columns={\"current_cost\": \"last_year_cost\"},inplace = True)\n"
   ]
  },
  {
   "cell_type": "code",
   "execution_count": 73,
   "metadata": {},
   "outputs": [
    {
     "data": {
      "text/plain": [
       "Index(['state', 'last_year_cost', 'arthritis', 'asthma', 'atrial_fib',\n",
       "       'chronic_kidney', 'depression', 'diabetes', 'hyperlip', 'hypertension',\n",
       "       'ischemia', 'psychotic', 'pulmonary', 'stroke'],\n",
       "      dtype='object')"
      ]
     },
     "execution_count": 73,
     "metadata": {},
     "output_type": "execute_result"
    }
   ],
   "source": [
    "twosev_data.columns"
   ]
  },
  {
   "cell_type": "code",
   "execution_count": 87,
   "metadata": {},
   "outputs": [
    {
     "data": {
      "text/plain": [
       "Index(['state', 'last_year_cost', 'arthritis', 'asthma', 'atrial_fib',\n",
       "       'chronic_kidney', 'depression', 'diabetes', 'hyperlip', 'hypertension',\n",
       "       'ischemia', 'psychotic', 'pulmonary', 'stroke'],\n",
       "      dtype='object')"
      ]
     },
     "execution_count": 87,
     "metadata": {},
     "output_type": "execute_result"
    }
   ],
   "source": [
    "twosev_data.columns"
   ]
  },
  {
   "cell_type": "code",
   "execution_count": 88,
   "metadata": {},
   "outputs": [
    {
     "data": {
      "text/plain": [
       "Index(['state', 'prev_less_65', 'prev_age_65_74', 'prev_age_75_84',\n",
       "       'prev_above_84', 'prev_male', 'prev_female', 'prev_white', 'prev_black',\n",
       "       'prev_hispanic', 'prev_other'],\n",
       "      dtype='object')"
      ]
     },
     "execution_count": 88,
     "metadata": {},
     "output_type": "execute_result"
    }
   ],
   "source": [
    "dataofinterest.columns"
   ]
  },
  {
   "cell_type": "code",
   "execution_count": 94,
   "metadata": {},
   "outputs": [],
   "source": [
    "predtwoeightdataprep = pd.merge(dataofinterest, twosev_data, how='inner', left_on='state', right_on='state')"
   ]
  },
  {
   "cell_type": "code",
   "execution_count": 96,
   "metadata": {},
   "outputs": [],
   "source": [
    "predtwoeightdata = predtwoeightdataprep[['prev_less_65', 'prev_age_65_74', 'prev_age_75_84',\n",
    "       'prev_above_84', 'prev_male', 'prev_female', 'prev_white', 'prev_black',\n",
    "       'prev_hispanic', 'prev_other', 'last_year_cost', 'arthritis', 'asthma',\n",
    "       'atrial_fib', 'chronic_kidney', 'depression', 'diabetes', 'hyperlip',\n",
    "       'hypertension', 'ischemia', 'psychotic', 'pulmonary', 'stroke']]"
   ]
  },
  {
   "cell_type": "markdown",
   "metadata": {},
   "source": [
    "# Predictions"
   ]
  },
  {
   "cell_type": "code",
   "execution_count": 98,
   "metadata": {},
   "outputs": [
    {
     "data": {
      "text/plain": [
       "array([ 78333.05396645,  53736.26586595,  45627.57754788,  29107.75646395,\n",
       "        39309.95120654, 208493.13022184,  46202.20540142,  28362.59695432,\n",
       "        41834.14996482,  32677.9824572 ,  24060.24242792,  31841.68890694,\n",
       "        63667.10248915,  32869.66988525, 119518.07542884,  20928.90764912,\n",
       "        28131.99225026,  61487.66157151,  33535.24408411,  20573.39012324,\n",
       "        26837.20695267,  23254.3825529 ,  15251.98235882,  24036.65583272,\n",
       "        35739.90252491,  20297.70207746,  88675.15153279,  21994.36564826,\n",
       "        63175.1478485 ,  47937.99231361,  38025.13259057,  42491.97684788,\n",
       "        42449.12073005,  37118.39045977,  42316.97783501,  57797.38817762,\n",
       "        34614.38835037, 122267.02129488,  26684.25388904,  27539.32060833,\n",
       "        71849.52608615,  78760.10852034,  64818.69482798,  70589.11320588,\n",
       "        64555.27600696,  63496.30652333,  68288.32348032, 100125.39044087,\n",
       "        58960.02913339, 174755.44461813,  63950.69733652,  79470.48172213,\n",
       "       135358.29605997,  51057.99733918,  35786.7105641 ,  48148.05622317,\n",
       "        42202.03845089,  42939.4647287 ,  44796.38051995,  63226.32130806,\n",
       "        41840.75369895, 138770.11571018,  35089.20569311,  44245.65967575,\n",
       "       100755.45618432,  34256.71444273,  23483.94715446,  27457.94273293,\n",
       "        24188.25443325,  28317.73310322,  26305.51999062,  34547.68627456,\n",
       "        30979.41315072,  72340.58231907,  24430.40680898,  37003.96839786,\n",
       "        67322.2517963 ,  37175.68692277,  20687.49183237,  27538.0783428 ,\n",
       "        23146.00657865,  29355.12209392,  24446.8416761 ,  30570.31021624,\n",
       "        20938.86454913,  90987.78518946,  26877.61123814,  23276.7433219 ,\n",
       "        64560.24288724,  63146.87920423,  41048.27190686,  50566.7069703 ,\n",
       "        43339.1510481 ,  40368.27045089,  44200.71777164,  76939.93466737,\n",
       "        38520.66087459, 132833.122939  ,  35341.92330902,  54894.61478209,\n",
       "        99507.91624904,  38573.35115502,  25591.9126689 ,  34146.42497798,\n",
       "        29123.98926285,  26884.70289168,  33231.80145283,  50652.79220255,\n",
       "        28877.48082437, 105180.4442684 ,  21037.12153841,  34541.18691265,\n",
       "        77255.2851264 ,  35363.07695638,  35318.0420612 ,  34743.75020601,\n",
       "        34947.30941494,  17459.6000032 ,  30104.8313347 ,  90407.73854086,\n",
       "        44992.45373612,  35682.0130982 ,  24729.92077586,  32637.08025678,\n",
       "        23876.35252373,  20989.43393172,  25888.95397995,  47935.14626296,\n",
       "        25245.28351991,  82963.78525622,  19989.64895979,  37044.90338631,\n",
       "        40756.5548806 ,  21454.94765347,  27656.34275169,  26344.53016698,\n",
       "        25543.9448318 ,  29981.75496545,  38936.38158352,  93337.14431154,\n",
       "        58878.30634878,  42422.91317536,  31359.81183435,  39121.28155422,\n",
       "        32622.49889329,  28366.67335805,  34522.49608878,  56835.68862984,\n",
       "        28471.91042857, 107706.60430088,  26494.3811125 ,  36335.17590842,\n",
       "        76962.28294065,  38786.39171055,  25564.55835919,  35858.58748866,\n",
       "        27565.5901317 ,  24683.20491116,  30121.24983427,  63874.08532986,\n",
       "        28973.58202638, 107714.55299116,  19048.69201697,  32787.71761829,\n",
       "        73094.47841688,  40551.07895143,  31628.04438754,  37884.55194408,\n",
       "        34157.5789493 ,  32441.45085588,  31526.40376566,  75829.86373633,\n",
       "        31075.7666061 , 104614.06742886,  21725.80363334,  42595.77749341,\n",
       "        78769.23910752,  43884.81281898,  22221.88685407,  29643.82237237,\n",
       "        25240.26847055,  18884.67179207,  26729.43225633,  46752.13660907,\n",
       "        24294.71054635,  97635.76915317,  30881.94565957,  30068.86686795,\n",
       "       110495.22613615,  32226.68866073,  24355.47739185,  33398.12475496,\n",
       "        26779.6538771 ,  20153.46989914,  27321.01856967,  41750.12835195,\n",
       "        23442.60280621, 101155.48984069,  20665.92932541,  28219.01183443,\n",
       "        76309.21094009,  41753.51140307,  26060.80133463,  38801.66138579,\n",
       "        25263.94979555,  30468.87396056,  33591.75401328,  51556.0914147 ,\n",
       "        27783.32068836,  91215.8893141 ,  27256.03763465,  40074.27510556,\n",
       "        87160.52620299,  17837.78296224,  11469.28970262,  15825.46742259,\n",
       "        11577.48116479,  10896.94455322,  13020.40996918,  17822.46832086,\n",
       "        12528.38664304,  37323.24653513,  10819.29059906,  18446.19586296,\n",
       "        31479.5539995 ,  26324.13334221,  14247.66575602,  21954.4195749 ,\n",
       "        19012.05331308,  27902.45526777,  21682.06573376,  31332.14578345,\n",
       "        18076.85094319,  69058.73563729,  23243.88698184,  34537.8071745 ,\n",
       "        21064.95302358,  25634.87515266,  21799.03815393,  23121.17922468,\n",
       "        23015.40653683,  37609.86270676,  22358.65869706,  75798.86546319,\n",
       "        22193.05396757,  23493.92324428,  57135.2310188 ,  38730.87755813,\n",
       "        20742.01934653,  23636.70299583,  21068.2362346 ,  24978.66203464,\n",
       "        25649.10528683,  33172.23198979,  20788.29080178,  88745.01995177,\n",
       "        16557.97328321,  36140.52372184,  54609.00670606,  37611.90956852,\n",
       "        25107.77291077,  34445.50400211,  27294.0600522 ,  20192.02528524,\n",
       "        29700.93864895,  46762.61239318,  30177.54268932,  95037.97912539,\n",
       "        23142.19481426,  36214.6525815 ,  64103.76087277,  32245.79119736,\n",
       "        19580.35483943,  30953.85812607,  28072.38144209,  15559.99764885,\n",
       "        25145.2573142 ,  35569.17395986,  24308.274161  ,  96288.14968016,\n",
       "        14604.82537826,  21842.99629179,  69420.22143334,  22820.89265522,\n",
       "        20164.67613885,  21211.1360105 ,  13385.60940508,  21663.12208504,\n",
       "        32091.19357015,  91263.60465655,  19130.46170514,  42019.18284401,\n",
       "        22627.80945417,  33723.31702912,  23296.23730588,  25554.30778749,\n",
       "        24754.99235341,  51240.03125545,  25594.79785872,  87846.13931755,\n",
       "        22113.75741871,  33070.31136889,  63831.98193001,  32805.41333602,\n",
       "        19806.91387139,  20124.68677707,  20081.88473525,  22028.52251081,\n",
       "        19072.66514445,  43922.46378257,  17063.35032662,  80534.96182553,\n",
       "        14105.00851835,  36715.11826429,  28153.32040394,  31681.92800766,\n",
       "        26371.60067253,  20037.52624269,  31130.37977011,  43116.29974814,\n",
       "        21809.43074674,  91900.44054167,  18118.73764842,  28647.01867836,\n",
       "        32589.10119887,  18910.75824177,  30513.78711733,  22709.24025774,\n",
       "        24491.18055767,  24685.88117287,  51889.64421255,  21077.16946753,\n",
       "        86803.39874035,  18243.04924768,  38134.65304829,  73489.17643495,\n",
       "        49711.20285634,  63429.1171176 ,  59136.44605711,  48307.37609324,\n",
       "        57955.94974382,  50143.66314493,  45674.9615053 , 113493.13892646,\n",
       "        41519.21479298,  76076.14912126, 124460.85514446,  37576.48507089,\n",
       "        22589.75522904,  28998.35154016,  35070.12128116,  24236.50893315,\n",
       "        31911.11925828,  84059.94357057,  24003.36542347, 107420.36035041,\n",
       "        13826.29198047,  71478.88594685,  49676.46192307,  55614.47084268,\n",
       "        51081.20663829,  50075.34880092,  60547.03129763,  51793.40768772,\n",
       "        46777.61012695, 185097.5639374 ,  46923.41106551,  69144.05924359,\n",
       "       121239.39740988,  57869.54545807,  36888.69812703,  46706.87646751,\n",
       "        37661.80810523,  37044.71165624,  42494.71638838,  52766.9137988 ,\n",
       "        38623.07815046, 101501.01626549,  41684.51289415,  51475.5217179 ,\n",
       "       108161.38067511,  43023.49274493,  26135.44167316,  33588.62410774,\n",
       "        28207.63746381,  27004.66358784,  30772.84158066,  60054.29472958,\n",
       "        28418.77422711, 104727.89332265,  30533.22101762,  31677.85571296,\n",
       "        77228.37540215,  38947.22189849,  34074.1463879 ,  38242.18468554,\n",
       "        28327.54717907,  28382.759633  ,  34116.57324702,  63228.66035884,\n",
       "        28943.6230679 , 108425.36315366,  14431.32163767,  20442.65227691,\n",
       "        74608.81290024,  29741.98382307,  26166.55209823,  31372.11058845,\n",
       "        26960.02169103,  27564.78151151,  25313.57950971,  44268.06652629,\n",
       "        25143.80408995,  90251.36785346,  39572.44594019,  56000.76713113,\n",
       "        45166.97507502,  53617.71553698,  42583.51553079,  45754.33484389,\n",
       "        44527.21514826,  71853.17192629,  39043.00350377, 130528.37220304,\n",
       "        41885.49352954,  50595.75741007, 104931.96002052,  30116.92810103,\n",
       "        26659.30094574,  23171.85376882,  20600.23257417,  23236.73592784,\n",
       "        21131.64728244,  34630.2983427 ,  22013.83936035,  71293.90721986,\n",
       "        21187.61515697,  25070.14485277,  63692.68154263,  56508.39200454,\n",
       "        31202.18555657,  36345.36737891,  31322.82351178,  34621.92912607,\n",
       "        33279.39321764,  66937.59571037,  29417.04703933, 103256.8125585 ,\n",
       "        27236.18294448,  35583.20029673,  73467.13991835,  32474.86709343,\n",
       "        23804.86315382,  26336.70584485,  22165.40837003,  20936.70332995,\n",
       "        36614.8412888 ,  50776.08559701,  21894.40350281,  71504.7585676 ,\n",
       "        29778.87578796,  47587.55951048,  30811.68009141,  37927.3561745 ,\n",
       "        29960.92379137,  30553.25514414,  31278.65763932,  56681.50957143,\n",
       "        29364.02088767, 111537.6102585 ,  27477.73581169,  34981.09543721,\n",
       "        70533.02551393,  53409.04486566,  39644.38759728,  50001.06377464,\n",
       "        43294.62926746,  49645.07241298,  44266.17756566,  81747.5083102 ,\n",
       "        38833.61751539, 127342.49888235,  31434.24802271,  48523.62440625,\n",
       "       103202.68689236,  33104.24545572,  28901.78876144,  36171.22477384,\n",
       "        20970.2723063 ,  26191.97717223,  29971.26005444,  94662.12710703,\n",
       "        47316.38312015,  45618.93584142,  25939.36440091,  33416.84498555,\n",
       "        26101.3344467 ,  27066.11426068,  30320.32689603,  54452.50995453,\n",
       "        26539.2749735 , 100178.68890664,  34711.06311177,  30087.32959939,\n",
       "        76508.25661078,  25636.96947446,  17363.73017147,  29962.40638902,\n",
       "        19828.8872533 ,  20162.1585076 ,  21565.73715187,  64260.70511307,\n",
       "        30258.85815272,  41600.4012524 ,  35240.97473571,  37881.11363267,\n",
       "        34510.6997673 ,  36166.94040144,  36550.43836366,  72354.96242437,\n",
       "        33498.24081641, 123505.49608717,  24054.37486682,  59212.98582723,\n",
       "        78000.90476574,  32062.35363241,  30074.24182137,  32771.73733072,\n",
       "        25813.16445329,  22930.86935941,  28970.67202864,  44824.87371985,\n",
       "        28372.93011932,  85786.54234579,  28306.34756148,  43380.54569367,\n",
       "        97260.60821771,  26019.52806211,  20869.2499545 ,  23972.81117275,\n",
       "        20856.07684368,  29744.11747963,  22811.3487255 ,  33339.02820562,\n",
       "        23358.30564399,  71549.00343802,  27313.74182815,  55374.17190525,\n",
       "        29110.73764321,  23755.75011355,  21204.16407751,  21277.80743532,\n",
       "        19959.9391963 , 105135.85140289])"
      ]
     },
     "execution_count": 98,
     "metadata": {},
     "output_type": "execute_result"
    }
   ],
   "source": [
    "regr.predict(predtwoeightdata)"
   ]
  }
 ],
 "metadata": {
  "kernelspec": {
   "display_name": "Python 3",
   "language": "python",
   "name": "python3"
  },
  "language_info": {
   "codemirror_mode": {
    "name": "ipython",
    "version": 3
   },
   "file_extension": ".py",
   "mimetype": "text/x-python",
   "name": "python",
   "nbconvert_exporter": "python",
   "pygments_lexer": "ipython3",
   "version": "3.6.4"
  }
 },
 "nbformat": 4,
 "nbformat_minor": 2
}
